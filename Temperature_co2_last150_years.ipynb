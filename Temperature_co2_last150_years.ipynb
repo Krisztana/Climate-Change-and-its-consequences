{
 "cells": [
  {
   "cell_type": "code",
   "execution_count": 3,
   "metadata": {},
   "outputs": [],
   "source": [
    "import pandas as pd\n",
    "import numpy as np\n",
    "import matplotlib\n",
    "import matplotlib.pyplot as plt\n",
    "import seaborn as sns\n",
    "from datetime import datetime\n",
    "from skforecast.ForecasterAutoreg import ForecasterAutoreg\n",
    "from sklearn.linear_model import LinearRegression\n",
    "import warnings\n",
    "warnings.simplefilter(\"ignore\")"
   ]
  },
  {
   "cell_type": "code",
   "execution_count": 4,
   "metadata": {},
   "outputs": [],
   "source": [
    "temperature = pd.read_excel(\"temperature_gaz_dataset.xlsx\", sheet_name=\"temperature\", dtype={'date_date': int})\n",
    "co2 = pd.read_excel(\"temperature_gaz_dataset.xlsx\", sheet_name=\"co2\", dtype={'date_date': int})\n",
    "ch4 = pd.read_excel(\"temperature_gaz_dataset.xlsx\", sheet_name=\"ch4\", dtype={'date_date': int})\n",
    "no2 = pd.read_excel(\"temperature_gaz_dataset.xlsx\", sheet_name=\"no2\", dtype={'date_date': int})"
   ]
  },
  {
   "cell_type": "code",
   "execution_count": 5,
   "metadata": {},
   "outputs": [
    {
     "data": {
      "text/plain": [
       "2015"
      ]
     },
     "metadata": {},
     "output_type": "display_data"
    },
    {
     "data": {
      "text/plain": [
       "-796050"
      ]
     },
     "metadata": {},
     "output_type": "display_data"
    }
   ],
   "source": [
    "# Need to find the common start and end dates of the dataset\n",
    "\n",
    "max_date_date = min(temperature['date_date'].max(),co2['date_date'].max(),no2['date_date'].max(),ch4['date_date'].max())\n",
    "display(max_date_date)\n",
    "\n",
    "min_date_date = max(temperature['date_date'].min(),co2['date_date'].min(),no2['date_date'].min(),ch4['date_date'].min())\n",
    "display(min_date_date)"
   ]
  },
  {
   "cell_type": "code",
   "execution_count": 6,
   "metadata": {},
   "outputs": [],
   "source": [
    "# Create a list of years, starting from the minimum date and ending with the maximum\n",
    "# Use this list to create a DataFrame\n",
    "\n",
    "years = list(range(min_date_date, max_date_date + 1))\n",
    "df_all = pd.DataFrame({'date_date': years})"
   ]
  },
  {
   "cell_type": "code",
   "execution_count": 7,
   "metadata": {},
   "outputs": [
    {
     "data": {
      "text/html": [
       "<div>\n",
       "<style scoped>\n",
       "    .dataframe tbody tr th:only-of-type {\n",
       "        vertical-align: middle;\n",
       "    }\n",
       "\n",
       "    .dataframe tbody tr th {\n",
       "        vertical-align: top;\n",
       "    }\n",
       "\n",
       "    .dataframe thead th {\n",
       "        text-align: right;\n",
       "    }\n",
       "</style>\n",
       "<table border=\"1\" class=\"dataframe\">\n",
       "  <thead>\n",
       "    <tr style=\"text-align: right;\">\n",
       "      <th></th>\n",
       "      <th>date_date</th>\n",
       "      <th>temperature</th>\n",
       "      <th>co2</th>\n",
       "      <th>ch4</th>\n",
       "      <th>no2</th>\n",
       "    </tr>\n",
       "  </thead>\n",
       "  <tbody>\n",
       "    <tr>\n",
       "      <th>0</th>\n",
       "      <td>-796050</td>\n",
       "      <td>-1.684176</td>\n",
       "      <td>NaN</td>\n",
       "      <td>NaN</td>\n",
       "      <td>NaN</td>\n",
       "    </tr>\n",
       "    <tr>\n",
       "      <th>1</th>\n",
       "      <td>-796049</td>\n",
       "      <td>NaN</td>\n",
       "      <td>NaN</td>\n",
       "      <td>NaN</td>\n",
       "      <td>NaN</td>\n",
       "    </tr>\n",
       "    <tr>\n",
       "      <th>2</th>\n",
       "      <td>-796048</td>\n",
       "      <td>NaN</td>\n",
       "      <td>NaN</td>\n",
       "      <td>NaN</td>\n",
       "      <td>NaN</td>\n",
       "    </tr>\n",
       "    <tr>\n",
       "      <th>3</th>\n",
       "      <td>-796047</td>\n",
       "      <td>NaN</td>\n",
       "      <td>NaN</td>\n",
       "      <td>NaN</td>\n",
       "      <td>NaN</td>\n",
       "    </tr>\n",
       "    <tr>\n",
       "      <th>4</th>\n",
       "      <td>-796046</td>\n",
       "      <td>NaN</td>\n",
       "      <td>NaN</td>\n",
       "      <td>NaN</td>\n",
       "      <td>NaN</td>\n",
       "    </tr>\n",
       "    <tr>\n",
       "      <th>...</th>\n",
       "      <td>...</td>\n",
       "      <td>...</td>\n",
       "      <td>...</td>\n",
       "      <td>...</td>\n",
       "      <td>...</td>\n",
       "    </tr>\n",
       "    <tr>\n",
       "      <th>798061</th>\n",
       "      <td>2011</td>\n",
       "      <td>0.600000</td>\n",
       "      <td>391.63</td>\n",
       "      <td>1803.14</td>\n",
       "      <td>323.352333</td>\n",
       "    </tr>\n",
       "    <tr>\n",
       "      <th>798062</th>\n",
       "      <td>2012</td>\n",
       "      <td>0.630000</td>\n",
       "      <td>393.82</td>\n",
       "      <td>1808.03</td>\n",
       "      <td>324.395083</td>\n",
       "    </tr>\n",
       "    <tr>\n",
       "      <th>798063</th>\n",
       "      <td>2013</td>\n",
       "      <td>0.650000</td>\n",
       "      <td>396.48</td>\n",
       "      <td>1813.43</td>\n",
       "      <td>325.219667</td>\n",
       "    </tr>\n",
       "    <tr>\n",
       "      <th>798064</th>\n",
       "      <td>2014</td>\n",
       "      <td>0.740000</td>\n",
       "      <td>398.61</td>\n",
       "      <td>1822.61</td>\n",
       "      <td>326.198333</td>\n",
       "    </tr>\n",
       "    <tr>\n",
       "      <th>798065</th>\n",
       "      <td>2015</td>\n",
       "      <td>0.870000</td>\n",
       "      <td>400.83</td>\n",
       "      <td>1834.23</td>\n",
       "      <td>327.321667</td>\n",
       "    </tr>\n",
       "  </tbody>\n",
       "</table>\n",
       "<p>798066 rows × 5 columns</p>\n",
       "</div>"
      ],
      "text/plain": [
       "        date_date  temperature     co2      ch4         no2\n",
       "0         -796050    -1.684176     NaN      NaN         NaN\n",
       "1         -796049          NaN     NaN      NaN         NaN\n",
       "2         -796048          NaN     NaN      NaN         NaN\n",
       "3         -796047          NaN     NaN      NaN         NaN\n",
       "4         -796046          NaN     NaN      NaN         NaN\n",
       "...           ...          ...     ...      ...         ...\n",
       "798061       2011     0.600000  391.63  1803.14  323.352333\n",
       "798062       2012     0.630000  393.82  1808.03  324.395083\n",
       "798063       2013     0.650000  396.48  1813.43  325.219667\n",
       "798064       2014     0.740000  398.61  1822.61  326.198333\n",
       "798065       2015     0.870000  400.83  1834.23  327.321667\n",
       "\n",
       "[798066 rows x 5 columns]"
      ]
     },
     "execution_count": 7,
     "metadata": {},
     "output_type": "execute_result"
    }
   ],
   "source": [
    "# Merge the datasets\n",
    "\n",
    "df_all=pd.merge(df_all, temperature, on=\"date_date\", how=\"left\")\n",
    "df_all = pd.merge(df_all, co2, on='date_date', how='left')\n",
    "df_all = pd.merge(df_all, ch4, on='date_date', how='left')\n",
    "df_all = pd.merge(df_all, no2, on='date_date', how='left')\n",
    "df_all"
   ]
  },
  {
   "cell_type": "code",
   "execution_count": 8,
   "metadata": {
    "scrolled": true
   },
   "outputs": [
    {
     "data": {
      "text/html": [
       "<div>\n",
       "<style scoped>\n",
       "    .dataframe tbody tr th:only-of-type {\n",
       "        vertical-align: middle;\n",
       "    }\n",
       "\n",
       "    .dataframe tbody tr th {\n",
       "        vertical-align: top;\n",
       "    }\n",
       "\n",
       "    .dataframe thead th {\n",
       "        text-align: right;\n",
       "    }\n",
       "</style>\n",
       "<table border=\"1\" class=\"dataframe\">\n",
       "  <thead>\n",
       "    <tr style=\"text-align: right;\">\n",
       "      <th></th>\n",
       "      <th>date_date</th>\n",
       "      <th>temperature</th>\n",
       "      <th>co2</th>\n",
       "      <th>ch4</th>\n",
       "      <th>no2</th>\n",
       "    </tr>\n",
       "  </thead>\n",
       "  <tbody>\n",
       "    <tr>\n",
       "      <th>0</th>\n",
       "      <td>-796050</td>\n",
       "      <td>-1.684176</td>\n",
       "      <td>188.40</td>\n",
       "      <td>396.00</td>\n",
       "      <td>248.800000</td>\n",
       "    </tr>\n",
       "    <tr>\n",
       "      <th>1</th>\n",
       "      <td>-796049</td>\n",
       "      <td>-1.684434</td>\n",
       "      <td>188.40</td>\n",
       "      <td>396.00</td>\n",
       "      <td>248.800000</td>\n",
       "    </tr>\n",
       "    <tr>\n",
       "      <th>2</th>\n",
       "      <td>-796048</td>\n",
       "      <td>-1.684692</td>\n",
       "      <td>188.40</td>\n",
       "      <td>396.00</td>\n",
       "      <td>248.800000</td>\n",
       "    </tr>\n",
       "    <tr>\n",
       "      <th>3</th>\n",
       "      <td>-796047</td>\n",
       "      <td>-1.684950</td>\n",
       "      <td>188.40</td>\n",
       "      <td>396.00</td>\n",
       "      <td>248.800000</td>\n",
       "    </tr>\n",
       "    <tr>\n",
       "      <th>4</th>\n",
       "      <td>-796046</td>\n",
       "      <td>-1.685208</td>\n",
       "      <td>188.40</td>\n",
       "      <td>396.00</td>\n",
       "      <td>248.800000</td>\n",
       "    </tr>\n",
       "    <tr>\n",
       "      <th>...</th>\n",
       "      <td>...</td>\n",
       "      <td>...</td>\n",
       "      <td>...</td>\n",
       "      <td>...</td>\n",
       "      <td>...</td>\n",
       "    </tr>\n",
       "    <tr>\n",
       "      <th>798061</th>\n",
       "      <td>2011</td>\n",
       "      <td>0.600000</td>\n",
       "      <td>391.63</td>\n",
       "      <td>1803.14</td>\n",
       "      <td>323.352333</td>\n",
       "    </tr>\n",
       "    <tr>\n",
       "      <th>798062</th>\n",
       "      <td>2012</td>\n",
       "      <td>0.630000</td>\n",
       "      <td>393.82</td>\n",
       "      <td>1808.03</td>\n",
       "      <td>324.395083</td>\n",
       "    </tr>\n",
       "    <tr>\n",
       "      <th>798063</th>\n",
       "      <td>2013</td>\n",
       "      <td>0.650000</td>\n",
       "      <td>396.48</td>\n",
       "      <td>1813.43</td>\n",
       "      <td>325.219667</td>\n",
       "    </tr>\n",
       "    <tr>\n",
       "      <th>798064</th>\n",
       "      <td>2014</td>\n",
       "      <td>0.740000</td>\n",
       "      <td>398.61</td>\n",
       "      <td>1822.61</td>\n",
       "      <td>326.198333</td>\n",
       "    </tr>\n",
       "    <tr>\n",
       "      <th>798065</th>\n",
       "      <td>2015</td>\n",
       "      <td>0.870000</td>\n",
       "      <td>400.83</td>\n",
       "      <td>1834.23</td>\n",
       "      <td>327.321667</td>\n",
       "    </tr>\n",
       "  </tbody>\n",
       "</table>\n",
       "<p>798066 rows × 5 columns</p>\n",
       "</div>"
      ],
      "text/plain": [
       "        date_date  temperature     co2      ch4         no2\n",
       "0         -796050    -1.684176  188.40   396.00  248.800000\n",
       "1         -796049    -1.684434  188.40   396.00  248.800000\n",
       "2         -796048    -1.684692  188.40   396.00  248.800000\n",
       "3         -796047    -1.684950  188.40   396.00  248.800000\n",
       "4         -796046    -1.685208  188.40   396.00  248.800000\n",
       "...           ...          ...     ...      ...         ...\n",
       "798061       2011     0.600000  391.63  1803.14  323.352333\n",
       "798062       2012     0.630000  393.82  1808.03  324.395083\n",
       "798063       2013     0.650000  396.48  1813.43  325.219667\n",
       "798064       2014     0.740000  398.61  1822.61  326.198333\n",
       "798065       2015     0.870000  400.83  1834.23  327.321667\n",
       "\n",
       "[798066 rows x 5 columns]"
      ]
     },
     "execution_count": 8,
     "metadata": {},
     "output_type": "execute_result"
    }
   ],
   "source": [
    "# Perform interpolation and backfilling on the merged data, the aim is to fill in any missing values\n",
    "\n",
    "df_all = df_all.interpolate().interpolate(method=\"backfill\")\n",
    "df_all"
   ]
  },
  {
   "cell_type": "code",
   "execution_count": 9,
   "metadata": {},
   "outputs": [],
   "source": [
    "# interpolate() performs forward interpolation, which estimates missing values based on the values \n",
    "# that come after them in the dataset\n",
    "\n",
    "# interpolate(method=\"backfill\") applies backfilling. Backfilling fills in missing values with the next available \n",
    "# non-missing value in the dataset. This method is useful when there are consecutive missing values"
   ]
  },
  {
   "cell_type": "code",
   "execution_count": 10,
   "metadata": {},
   "outputs": [],
   "source": [
    "# Focus on the last 150 years\n",
    "\n",
    "df_all_last_150=df_all.tail(150)"
   ]
  },
  {
   "cell_type": "code",
   "execution_count": 11,
   "metadata": {},
   "outputs": [
    {
     "data": {
      "text/html": [
       "<div>\n",
       "<style scoped>\n",
       "    .dataframe tbody tr th:only-of-type {\n",
       "        vertical-align: middle;\n",
       "    }\n",
       "\n",
       "    .dataframe tbody tr th {\n",
       "        vertical-align: top;\n",
       "    }\n",
       "\n",
       "    .dataframe thead th {\n",
       "        text-align: right;\n",
       "    }\n",
       "</style>\n",
       "<table border=\"1\" class=\"dataframe\">\n",
       "  <thead>\n",
       "    <tr style=\"text-align: right;\">\n",
       "      <th></th>\n",
       "      <th>temperature</th>\n",
       "      <th>co2</th>\n",
       "      <th>ch4</th>\n",
       "      <th>no2</th>\n",
       "    </tr>\n",
       "  </thead>\n",
       "  <tbody>\n",
       "    <tr>\n",
       "      <th>temperature</th>\n",
       "      <td>1.000000</td>\n",
       "      <td>0.928968</td>\n",
       "      <td>0.885056</td>\n",
       "      <td>0.925038</td>\n",
       "    </tr>\n",
       "    <tr>\n",
       "      <th>co2</th>\n",
       "      <td>0.928968</td>\n",
       "      <td>1.000000</td>\n",
       "      <td>0.950862</td>\n",
       "      <td>0.997823</td>\n",
       "    </tr>\n",
       "    <tr>\n",
       "      <th>ch4</th>\n",
       "      <td>0.885056</td>\n",
       "      <td>0.950862</td>\n",
       "      <td>1.000000</td>\n",
       "      <td>0.964885</td>\n",
       "    </tr>\n",
       "    <tr>\n",
       "      <th>no2</th>\n",
       "      <td>0.925038</td>\n",
       "      <td>0.997823</td>\n",
       "      <td>0.964885</td>\n",
       "      <td>1.000000</td>\n",
       "    </tr>\n",
       "  </tbody>\n",
       "</table>\n",
       "</div>"
      ],
      "text/plain": [
       "             temperature       co2       ch4       no2\n",
       "temperature     1.000000  0.928968  0.885056  0.925038\n",
       "co2             0.928968  1.000000  0.950862  0.997823\n",
       "ch4             0.885056  0.950862  1.000000  0.964885\n",
       "no2             0.925038  0.997823  0.964885  1.000000"
      ]
     },
     "execution_count": 11,
     "metadata": {},
     "output_type": "execute_result"
    }
   ],
   "source": [
    "# Create a correlation matrix to examine the relationships between temperature, CO2, CH4, and NO2, and visualize it \n",
    "# using a heatmap\n",
    "\n",
    "corr_matrix= df_all_last_150[[\"temperature\", \"co2\", \"ch4\", \"no2\"]].corr()\n",
    "corr_matrix"
   ]
  },
  {
   "cell_type": "code",
   "execution_count": 12,
   "metadata": {},
   "outputs": [
    {
     "data": {
      "text/plain": [
       "<Axes: >"
      ]
     },
     "execution_count": 12,
     "metadata": {},
     "output_type": "execute_result"
    },
    {
     "data": {
      "image/png": "[encoded data removed]",
      "text/plain": [
       "<Figure size 640x480 with 2 Axes>"
      ]
     },
     "metadata": {},
     "output_type": "display_data"
    }
   ],
   "source": [
    "sns.heatmap(corr_matrix,annot=True, square=True)"
   ]
  },
  {
   "cell_type": "markdown",
   "metadata": {},
   "source": [
    "In our project, the focus on temperature and CO2 emission changes in the last 150 years. Also want to highlight \n",
    "specific historical periods, such as the start and expansion of the first coal-fired power station (highlighted in lime), \n",
    "the First World War (highlighted in blue), and the Second World War (highlighted in purple), through visualizations "
   ]
  },
  {
   "cell_type": "code",
   "execution_count": 13,
   "metadata": {
    "scrolled": false
   },
   "outputs": [
    {
     "data": {
      "image/png": "[encoded data removed]",
      "text/plain": [
       "<Figure size 1500x600 with 2 Axes>"
      ]
     },
     "metadata": {},
     "output_type": "display_data"
    }
   ],
   "source": [
    "fig, ax1 = plt.subplots(figsize=(15, 6))\n",
    "\n",
    "ax1.plot(df_all_last_150['date_date'], df_all_last_150['temperature'], label='Temperature', color='red')\n",
    "ax1.set_ylabel('Temperature', color='red')\n",
    "ax1.tick_params(axis='y', labelcolor='red')\n",
    "\n",
    "ax2 = ax1.twinx()\n",
    "ax2.plot(df_all_last_150['date_date'], df_all_last_150['co2'], label='CO2', color='blue')\n",
    "\n",
    "ax2.set_ylabel('CO2', color='black')\n",
    "ax2.tick_params(axis='y', labelcolor='black')\n",
    "\n",
    "lines, labels = ax1.get_legend_handles_labels()\n",
    "lines2, labels2 = ax2.get_legend_handles_labels()\n",
    "ax1.legend(lines + lines2, labels + labels2, loc='upper left')\n",
    "\n",
    "\n",
    "# ax1.axvspan(1760, 1840, color=\"green\", alpha=0.3)  # industrial rev.\n",
    "ax1.axvspan(1882, 1940, color=\"lime\", alpha=0.3)   #start of the first coal fired power station and expenstion\n",
    "ax1.axvspan(1914, 1918, color=\"blue\", alpha=0.3)   # I WW\n",
    "ax1.axvspan(1939, 1945, color=\"purple\", alpha=0.3)   # II WW\n",
    "\n",
    "\n",
    "plt.show()"
   ]
  },
  {
   "cell_type": "markdown",
   "metadata": {},
   "source": [
    "Our objective is to develop a predictive model for estimating CO2 emissions and if possible also the temperature."
   ]
  },
  {
   "cell_type": "code",
   "execution_count": 14,
   "metadata": {},
   "outputs": [
    {
     "data": {
      "text/html": [
       "<div>\n",
       "<style scoped>\n",
       "    .dataframe tbody tr th:only-of-type {\n",
       "        vertical-align: middle;\n",
       "    }\n",
       "\n",
       "    .dataframe tbody tr th {\n",
       "        vertical-align: top;\n",
       "    }\n",
       "\n",
       "    .dataframe thead th {\n",
       "        text-align: right;\n",
       "    }\n",
       "</style>\n",
       "<table border=\"1\" class=\"dataframe\">\n",
       "  <thead>\n",
       "    <tr style=\"text-align: right;\">\n",
       "      <th></th>\n",
       "      <th>date_date</th>\n",
       "      <th>temperature</th>\n",
       "      <th>co2</th>\n",
       "    </tr>\n",
       "  </thead>\n",
       "  <tbody>\n",
       "    <tr>\n",
       "      <th>797916</th>\n",
       "      <td>1866</td>\n",
       "      <td>-0.18250</td>\n",
       "      <td>287.725</td>\n",
       "    </tr>\n",
       "    <tr>\n",
       "      <th>797917</th>\n",
       "      <td>1867</td>\n",
       "      <td>-0.18375</td>\n",
       "      <td>288.250</td>\n",
       "    </tr>\n",
       "    <tr>\n",
       "      <th>797918</th>\n",
       "      <td>1868</td>\n",
       "      <td>-0.18500</td>\n",
       "      <td>288.775</td>\n",
       "    </tr>\n",
       "    <tr>\n",
       "      <th>797919</th>\n",
       "      <td>1869</td>\n",
       "      <td>-0.18625</td>\n",
       "      <td>289.300</td>\n",
       "    </tr>\n",
       "    <tr>\n",
       "      <th>797920</th>\n",
       "      <td>1870</td>\n",
       "      <td>-0.18750</td>\n",
       "      <td>288.200</td>\n",
       "    </tr>\n",
       "    <tr>\n",
       "      <th>...</th>\n",
       "      <td>...</td>\n",
       "      <td>...</td>\n",
       "      <td>...</td>\n",
       "    </tr>\n",
       "    <tr>\n",
       "      <th>798061</th>\n",
       "      <td>2011</td>\n",
       "      <td>0.60000</td>\n",
       "      <td>391.630</td>\n",
       "    </tr>\n",
       "    <tr>\n",
       "      <th>798062</th>\n",
       "      <td>2012</td>\n",
       "      <td>0.63000</td>\n",
       "      <td>393.820</td>\n",
       "    </tr>\n",
       "    <tr>\n",
       "      <th>798063</th>\n",
       "      <td>2013</td>\n",
       "      <td>0.65000</td>\n",
       "      <td>396.480</td>\n",
       "    </tr>\n",
       "    <tr>\n",
       "      <th>798064</th>\n",
       "      <td>2014</td>\n",
       "      <td>0.74000</td>\n",
       "      <td>398.610</td>\n",
       "    </tr>\n",
       "    <tr>\n",
       "      <th>798065</th>\n",
       "      <td>2015</td>\n",
       "      <td>0.87000</td>\n",
       "      <td>400.830</td>\n",
       "    </tr>\n",
       "  </tbody>\n",
       "</table>\n",
       "<p>150 rows × 3 columns</p>\n",
       "</div>"
      ],
      "text/plain": [
       "        date_date  temperature      co2\n",
       "797916       1866     -0.18250  287.725\n",
       "797917       1867     -0.18375  288.250\n",
       "797918       1868     -0.18500  288.775\n",
       "797919       1869     -0.18625  289.300\n",
       "797920       1870     -0.18750  288.200\n",
       "...           ...          ...      ...\n",
       "798061       2011      0.60000  391.630\n",
       "798062       2012      0.63000  393.820\n",
       "798063       2013      0.65000  396.480\n",
       "798064       2014      0.74000  398.610\n",
       "798065       2015      0.87000  400.830\n",
       "\n",
       "[150 rows x 3 columns]"
      ]
     },
     "execution_count": 14,
     "metadata": {},
     "output_type": "execute_result"
    }
   ],
   "source": [
    "# Keep only temperature and co2\n",
    "\n",
    "df_150y_for_pred= df_all_last_150[[\"date_date\",\"temperature\",\"co2\"]]\n",
    "df_150y_for_pred"
   ]
  },
  {
   "cell_type": "code",
   "execution_count": 15,
   "metadata": {
    "scrolled": false
   },
   "outputs": [
    {
     "name": "stdout",
     "output_type": "stream",
     "text": [
      "<class 'pandas.core.frame.DataFrame'>\n",
      "Int64Index: 150 entries, 797916 to 798065\n",
      "Data columns (total 3 columns):\n",
      " #   Column       Non-Null Count  Dtype  \n",
      "---  ------       --------------  -----  \n",
      " 0   date_date    150 non-null    int64  \n",
      " 1   temperature  150 non-null    float64\n",
      " 2   co2          150 non-null    float64\n",
      "dtypes: float64(2), int64(1)\n",
      "memory usage: 4.7 KB\n"
     ]
    }
   ],
   "source": [
    "df_150y_for_pred.info()"
   ]
  },
  {
   "cell_type": "code",
   "execution_count": 16,
   "metadata": {},
   "outputs": [],
   "source": [
    "# Rename coulmn \n",
    "\n",
    "df_150y_for_pred.rename(columns={\"date_date\":\"year\"}, inplace= True)"
   ]
  },
  {
   "cell_type": "markdown",
   "metadata": {},
   "source": [
    "CO2 prediction"
   ]
  },
  {
   "cell_type": "code",
   "execution_count": 17,
   "metadata": {},
   "outputs": [
    {
     "name": "stdout",
     "output_type": "stream",
     "text": [
      "<class 'pandas.core.frame.DataFrame'>\n",
      "Int64Index: 150 entries, 797916 to 798065\n",
      "Data columns (total 2 columns):\n",
      " #   Column     Non-Null Count  Dtype  \n",
      "---  ------     --------------  -----  \n",
      " 0   date_date  150 non-null    int64  \n",
      " 1   co2        150 non-null    float64\n",
      "dtypes: float64(1), int64(1)\n",
      "memory usage: 3.5 KB\n"
     ]
    }
   ],
   "source": [
    "# Keep only co2\n",
    "\n",
    "df_150y_for_pred_co2= df_all_last_150[[\"date_date\",\"co2\"]]\n",
    "df_150y_for_pred_co2.info()"
   ]
  },
  {
   "cell_type": "code",
   "execution_count": 18,
   "metadata": {},
   "outputs": [],
   "source": [
    "# # Rename coulmn and change the year to datetime\n",
    "\n",
    "df_150y_for_pred_co2.rename(columns={\"date_date\":\"year\"}, inplace= True)\n",
    "df_150y_for_pred_co2[\"year\"] = pd.to_datetime(df_150y_for_pred_co2[\"year\"], format=\"%Y\")"
   ]
  },
  {
   "cell_type": "code",
   "execution_count": 19,
   "metadata": {
    "scrolled": true
   },
   "outputs": [
    {
     "data": {
      "text/html": [
       "<div>\n",
       "<style scoped>\n",
       "    .dataframe tbody tr th:only-of-type {\n",
       "        vertical-align: middle;\n",
       "    }\n",
       "\n",
       "    .dataframe tbody tr th {\n",
       "        vertical-align: top;\n",
       "    }\n",
       "\n",
       "    .dataframe thead th {\n",
       "        text-align: right;\n",
       "    }\n",
       "</style>\n",
       "<table border=\"1\" class=\"dataframe\">\n",
       "  <thead>\n",
       "    <tr style=\"text-align: right;\">\n",
       "      <th></th>\n",
       "      <th>year</th>\n",
       "      <th>co2</th>\n",
       "    </tr>\n",
       "  </thead>\n",
       "  <tbody>\n",
       "    <tr>\n",
       "      <th>797916</th>\n",
       "      <td>1866-01-01</td>\n",
       "      <td>287.725</td>\n",
       "    </tr>\n",
       "    <tr>\n",
       "      <th>797917</th>\n",
       "      <td>1867-01-01</td>\n",
       "      <td>288.250</td>\n",
       "    </tr>\n",
       "    <tr>\n",
       "      <th>797918</th>\n",
       "      <td>1868-01-01</td>\n",
       "      <td>288.775</td>\n",
       "    </tr>\n",
       "    <tr>\n",
       "      <th>797919</th>\n",
       "      <td>1869-01-01</td>\n",
       "      <td>289.300</td>\n",
       "    </tr>\n",
       "    <tr>\n",
       "      <th>797920</th>\n",
       "      <td>1870-01-01</td>\n",
       "      <td>288.200</td>\n",
       "    </tr>\n",
       "  </tbody>\n",
       "</table>\n",
       "</div>"
      ],
      "text/plain": [
       "             year      co2\n",
       "797916 1866-01-01  287.725\n",
       "797917 1867-01-01  288.250\n",
       "797918 1868-01-01  288.775\n",
       "797919 1869-01-01  289.300\n",
       "797920 1870-01-01  288.200"
      ]
     },
     "execution_count": 19,
     "metadata": {},
     "output_type": "execute_result"
    }
   ],
   "source": [
    "df_150y_for_pred_co2.head()"
   ]
  },
  {
   "cell_type": "code",
   "execution_count": 20,
   "metadata": {},
   "outputs": [],
   "source": [
    "# Split the dataset into train and test\n",
    "\n",
    "train = df_150y_for_pred_co2[df_150y_for_pred_co2[\"year\"] < datetime(2011, 1, 1)].copy()\n",
    "test = df_150y_for_pred_co2[df_150y_for_pred_co2[\"year\"] >= datetime(2011, 1, 1)].copy()\n"
   ]
  },
  {
   "cell_type": "code",
   "execution_count": 21,
   "metadata": {},
   "outputs": [],
   "source": [
    "# The goal to predict CO\" emissions for the next 30 years unsing a linear regression model\n",
    "\n",
    "train_ = train[['year', 'co2']].copy().set_index('year').squeeze()\n",
    "\n",
    "lag=1\n",
    "forecaster = ForecasterAutoreg(regressor=LinearRegression(), lags=lag)\n",
    "\n",
    "forecaster.fit(y=train_)\n",
    "\n",
    "years= 30\n",
    "\n",
    "predictions = forecaster.predict(steps=years)"
   ]
  },
  {
   "cell_type": "code",
   "execution_count": 22,
   "metadata": {
    "scrolled": false
   },
   "outputs": [
    {
     "data": {
      "text/plain": [
       "1     392.155952\n",
       "2     394.512298\n",
       "3     396.920140\n",
       "4     399.380604\n",
       "5     401.894839\n",
       "6     404.464020\n",
       "7     407.089349\n",
       "8     409.772052\n",
       "9     412.513384\n",
       "10    415.314625\n",
       "11    418.177085\n",
       "12    421.102101\n",
       "13    424.091042\n",
       "14    427.145303\n",
       "15    430.266312\n",
       "16    433.455529\n",
       "17    436.714443\n",
       "18    440.044578\n",
       "19    443.447491\n",
       "20    446.924771\n",
       "21    450.478045\n",
       "22    454.108972\n",
       "23    457.819250\n",
       "24    461.610614\n",
       "25    465.484834\n",
       "26    469.443723\n",
       "27    473.489129\n",
       "28    477.622945\n",
       "29    481.847101\n",
       "30    486.163574\n",
       "Name: pred, dtype: float64"
      ]
     },
     "execution_count": 22,
     "metadata": {},
     "output_type": "execute_result"
    }
   ],
   "source": [
    "predictions"
   ]
  },
  {
   "cell_type": "code",
   "execution_count": 23,
   "metadata": {},
   "outputs": [
    {
     "data": {
      "text/html": [
       "<div>\n",
       "<style scoped>\n",
       "    .dataframe tbody tr th:only-of-type {\n",
       "        vertical-align: middle;\n",
       "    }\n",
       "\n",
       "    .dataframe tbody tr th {\n",
       "        vertical-align: top;\n",
       "    }\n",
       "\n",
       "    .dataframe thead th {\n",
       "        text-align: right;\n",
       "    }\n",
       "</style>\n",
       "<table border=\"1\" class=\"dataframe\">\n",
       "  <thead>\n",
       "    <tr style=\"text-align: right;\">\n",
       "      <th></th>\n",
       "      <th>year</th>\n",
       "      <th>co2</th>\n",
       "    </tr>\n",
       "  </thead>\n",
       "  <tbody>\n",
       "    <tr>\n",
       "      <th>1</th>\n",
       "      <td>2011-01-01</td>\n",
       "      <td>392.155952</td>\n",
       "    </tr>\n",
       "    <tr>\n",
       "      <th>2</th>\n",
       "      <td>2012-01-01</td>\n",
       "      <td>394.512298</td>\n",
       "    </tr>\n",
       "    <tr>\n",
       "      <th>3</th>\n",
       "      <td>2013-01-01</td>\n",
       "      <td>396.920140</td>\n",
       "    </tr>\n",
       "    <tr>\n",
       "      <th>4</th>\n",
       "      <td>2014-01-01</td>\n",
       "      <td>399.380604</td>\n",
       "    </tr>\n",
       "    <tr>\n",
       "      <th>5</th>\n",
       "      <td>2015-01-01</td>\n",
       "      <td>401.894839</td>\n",
       "    </tr>\n",
       "  </tbody>\n",
       "</table>\n",
       "</div>"
      ],
      "text/plain": [
       "        year         co2\n",
       "1 2011-01-01  392.155952\n",
       "2 2012-01-01  394.512298\n",
       "3 2013-01-01  396.920140\n",
       "4 2014-01-01  399.380604\n",
       "5 2015-01-01  401.894839"
      ]
     },
     "execution_count": 23,
     "metadata": {},
     "output_type": "execute_result"
    }
   ],
   "source": [
    "# Create a dataFrame from the predicted values \n",
    "\n",
    "start_year = test['year'].iloc[0].year\n",
    "years = 30\n",
    "end_year = start_year + years\n",
    "forecast_years = pd.date_range(start=datetime(start_year, 1, 1), periods=years, freq='AS')\n",
    "\n",
    "\n",
    "df_forecast = pd.DataFrame({'year': forecast_years, 'co2': predictions})\n",
    "df_forecast.head()"
   ]
  },
  {
   "cell_type": "code",
   "execution_count": 24,
   "metadata": {},
   "outputs": [
    {
     "data": {
      "image/png": "[encoded data removed]",
      "text/plain": [
       "<Figure size 1000x600 with 1 Axes>"
      ]
     },
     "metadata": {},
     "output_type": "display_data"
    }
   ],
   "source": [
    "# Visualize past and predicted CO2 emissions for the next 30 years\n",
    "\n",
    "plt.figure(figsize=(10, 6))\n",
    "plt.plot(train_.index, train_, label='Actual')\n",
    "plt.plot(df_forecast['year'], df_forecast['co2'], label='Forecast')\n",
    "\n",
    "plt.xlim(train_.index[0], pd.to_datetime('2050'))\n",
    "\n",
    "plt.xlabel('Year')\n",
    "plt.ylabel('CO2')\n",
    "plt.title('CO2 Forecast 2011-2041')\n",
    "plt.legend()\n",
    "plt.show()"
   ]
  }
 ],
 "metadata": {
  "hide_input": false,
  "kernelspec": {
   "display_name": "Python 3 (ipykernel)",
   "language": "python",
   "name": "python3"
  },
  "language_info": {
   "codemirror_mode": {
    "name": "ipython",
    "version": 3
   },
   "file_extension": ".py",
   "mimetype": "text/x-python",
   "name": "python",
   "nbconvert_exporter": "python",
   "pygments_lexer": "ipython3",
   "version": "3.10.9"
  }
 },
 "nbformat": 4,
 "nbformat_minor": 4
}
